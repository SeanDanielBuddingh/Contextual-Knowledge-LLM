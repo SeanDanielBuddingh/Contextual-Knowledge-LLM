{
 "cells": [
  {
   "cell_type": "code",
   "execution_count": 12,
   "metadata": {},
   "outputs": [],
   "source": [
    "import pandas as pd\n",
    "import numpy as np"
   ]
  },
  {
   "cell_type": "code",
   "execution_count": 29,
   "metadata": {},
   "outputs": [],
   "source": [
    "df = pd.read_csv('llamastu_qwenteach.csv')"
   ]
  },
  {
   "cell_type": "code",
   "execution_count": 30,
   "metadata": {},
   "outputs": [
    {
     "data": {
      "text/html": [
       "<div>\n",
       "<style scoped>\n",
       "    .dataframe tbody tr th:only-of-type {\n",
       "        vertical-align: middle;\n",
       "    }\n",
       "\n",
       "    .dataframe tbody tr th {\n",
       "        vertical-align: top;\n",
       "    }\n",
       "\n",
       "    .dataframe thead th {\n",
       "        text-align: right;\n",
       "    }\n",
       "</style>\n",
       "<table border=\"1\" class=\"dataframe\">\n",
       "  <thead>\n",
       "    <tr style=\"text-align: right;\">\n",
       "      <th></th>\n",
       "      <th>train/global_step</th>\n",
       "      <th>./llama_qwen_results_packing - _step</th>\n",
       "      <th>./llama_qwen_results_packing - _step__MIN</th>\n",
       "      <th>./llama_qwen_results_packing - _step__MAX</th>\n",
       "      <th>./llama_qwen_results_packing - eval/loss</th>\n",
       "      <th>./llama_qwen_results_packing - eval/loss__MIN</th>\n",
       "      <th>./llama_qwen_results_packing - eval/loss__MAX</th>\n",
       "    </tr>\n",
       "  </thead>\n",
       "  <tbody>\n",
       "    <tr>\n",
       "      <th>0</th>\n",
       "      <td>50</td>\n",
       "      <td>1</td>\n",
       "      <td>1</td>\n",
       "      <td>1</td>\n",
       "      <td>2.379528</td>\n",
       "      <td>2.379528</td>\n",
       "      <td>2.379528</td>\n",
       "    </tr>\n",
       "    <tr>\n",
       "      <th>1</th>\n",
       "      <td>100</td>\n",
       "      <td>3</td>\n",
       "      <td>3</td>\n",
       "      <td>3</td>\n",
       "      <td>2.163773</td>\n",
       "      <td>2.163773</td>\n",
       "      <td>2.163773</td>\n",
       "    </tr>\n",
       "    <tr>\n",
       "      <th>2</th>\n",
       "      <td>150</td>\n",
       "      <td>5</td>\n",
       "      <td>5</td>\n",
       "      <td>5</td>\n",
       "      <td>2.113150</td>\n",
       "      <td>2.113150</td>\n",
       "      <td>2.113150</td>\n",
       "    </tr>\n",
       "    <tr>\n",
       "      <th>3</th>\n",
       "      <td>200</td>\n",
       "      <td>7</td>\n",
       "      <td>7</td>\n",
       "      <td>7</td>\n",
       "      <td>2.061220</td>\n",
       "      <td>2.061220</td>\n",
       "      <td>2.061220</td>\n",
       "    </tr>\n",
       "    <tr>\n",
       "      <th>4</th>\n",
       "      <td>250</td>\n",
       "      <td>9</td>\n",
       "      <td>9</td>\n",
       "      <td>9</td>\n",
       "      <td>2.003996</td>\n",
       "      <td>2.003996</td>\n",
       "      <td>2.003996</td>\n",
       "    </tr>\n",
       "  </tbody>\n",
       "</table>\n",
       "</div>"
      ],
      "text/plain": [
       "   train/global_step  ./llama_qwen_results_packing - _step  \\\n",
       "0                 50                                     1   \n",
       "1                100                                     3   \n",
       "2                150                                     5   \n",
       "3                200                                     7   \n",
       "4                250                                     9   \n",
       "\n",
       "   ./llama_qwen_results_packing - _step__MIN  \\\n",
       "0                                          1   \n",
       "1                                          3   \n",
       "2                                          5   \n",
       "3                                          7   \n",
       "4                                          9   \n",
       "\n",
       "   ./llama_qwen_results_packing - _step__MAX  \\\n",
       "0                                          1   \n",
       "1                                          3   \n",
       "2                                          5   \n",
       "3                                          7   \n",
       "4                                          9   \n",
       "\n",
       "   ./llama_qwen_results_packing - eval/loss  \\\n",
       "0                                  2.379528   \n",
       "1                                  2.163773   \n",
       "2                                  2.113150   \n",
       "3                                  2.061220   \n",
       "4                                  2.003996   \n",
       "\n",
       "   ./llama_qwen_results_packing - eval/loss__MIN  \\\n",
       "0                                       2.379528   \n",
       "1                                       2.163773   \n",
       "2                                       2.113150   \n",
       "3                                       2.061220   \n",
       "4                                       2.003996   \n",
       "\n",
       "   ./llama_qwen_results_packing - eval/loss__MAX  \n",
       "0                                       2.379528  \n",
       "1                                       2.163773  \n",
       "2                                       2.113150  \n",
       "3                                       2.061220  \n",
       "4                                       2.003996  "
      ]
     },
     "execution_count": 30,
     "metadata": {},
     "output_type": "execute_result"
    }
   ],
   "source": [
    "df.head()"
   ]
  },
  {
   "cell_type": "code",
   "execution_count": 31,
   "metadata": {},
   "outputs": [
    {
     "data": {
      "text/plain": [
       "1.6755409240722656"
      ]
     },
     "execution_count": 31,
     "metadata": {},
     "output_type": "execute_result"
    }
   ],
   "source": [
    "lowest_eval = min(df['./llama_qwen_results_packing - eval/loss'])\n",
    "lowest_eval"
   ]
  },
  {
   "cell_type": "code",
   "execution_count": 32,
   "metadata": {},
   "outputs": [
    {
     "data": {
      "text/plain": [
       "Int64Index([66], dtype='int64')"
      ]
     },
     "execution_count": 32,
     "metadata": {},
     "output_type": "execute_result"
    }
   ],
   "source": [
    "lowest_eval_index = df[df['./llama_qwen_results_packing - eval/loss'] == lowest_eval].index\n",
    "lowest_eval_index"
   ]
  },
  {
   "cell_type": "code",
   "execution_count": 33,
   "metadata": {},
   "outputs": [
    {
     "data": {
      "text/plain": [
       "Int64Index([3300], dtype='int64')"
      ]
     },
     "execution_count": 33,
     "metadata": {},
     "output_type": "execute_result"
    }
   ],
   "source": [
    "checkpoint_value = lowest_eval_index * 50\n",
    "checkpoint_value\n",
    "# I expected maybe 2000 based on graph"
   ]
  },
  {
   "cell_type": "code",
   "execution_count": 34,
   "metadata": {},
   "outputs": [
    {
     "data": {
      "image/png": "[encoded data removed]",
      "text/plain": [
       "<Figure size 432x288 with 1 Axes>"
      ]
     },
     "metadata": {
      "needs_background": "light"
     },
     "output_type": "display_data"
    }
   ],
   "source": [
    "import matplotlib.pyplot as plt\n",
    "\n",
    "plt.plot(df['./llama_qwen_results_packing - eval/loss'][40:80])\n",
    "plt.show()"
   ]
  },
  {
   "cell_type": "markdown",
   "metadata": {},
   "source": [
    "## Based on the plot, it seems 40 really is good, so the ideal checkpoint is 2000"
   ]
  }
 ],
 "metadata": {
  "kernelspec": {
   "display_name": "Python 3 (ipykernel)",
   "language": "python",
   "name": "python3"
  },
  "language_info": {
   "codemirror_mode": {
    "name": "ipython",
    "version": 3
   },
   "file_extension": ".py",
   "mimetype": "text/x-python",
   "name": "python",
   "nbconvert_exporter": "python",
   "pygments_lexer": "ipython3",
   "version": "3.8.10"
  }
 },
 "nbformat": 4,
 "nbformat_minor": 4
}

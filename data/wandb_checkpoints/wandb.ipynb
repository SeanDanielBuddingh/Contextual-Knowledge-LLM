{
 "cells": [
  {
   "cell_type": "code",
   "execution_count": 17,
   "metadata": {},
   "outputs": [],
   "source": [
    "import pandas as pd\n",
    "import numpy as np"
   ]
  },
  {
   "cell_type": "code",
   "execution_count": 18,
   "metadata": {},
   "outputs": [],
   "source": [
    "df = pd.read_csv('mistral_gpt.csv')"
   ]
  },
  {
   "cell_type": "code",
   "execution_count": 19,
   "metadata": {},
   "outputs": [
    {
     "data": {
      "text/html": [
       "<div>\n",
       "<style scoped>\n",
       "    .dataframe tbody tr th:only-of-type {\n",
       "        vertical-align: middle;\n",
       "    }\n",
       "\n",
       "    .dataframe tbody tr th {\n",
       "        vertical-align: top;\n",
       "    }\n",
       "\n",
       "    .dataframe thead th {\n",
       "        text-align: right;\n",
       "    }\n",
       "</style>\n",
       "<table border=\"1\" class=\"dataframe\">\n",
       "  <thead>\n",
       "    <tr style=\"text-align: right;\">\n",
       "      <th></th>\n",
       "      <th>train/global_step</th>\n",
       "      <th>./results_packing - _step</th>\n",
       "      <th>./results_packing - _step__MIN</th>\n",
       "      <th>./results_packing - _step__MAX</th>\n",
       "      <th>./results_packing - eval/loss</th>\n",
       "      <th>./results_packing - eval/loss__MIN</th>\n",
       "      <th>./results_packing - eval/loss__MAX</th>\n",
       "    </tr>\n",
       "  </thead>\n",
       "  <tbody>\n",
       "    <tr>\n",
       "      <th>0</th>\n",
       "      <td>50</td>\n",
       "      <td>1</td>\n",
       "      <td>1</td>\n",
       "      <td>1</td>\n",
       "      <td>2.716813</td>\n",
       "      <td>2.716813</td>\n",
       "      <td>2.716813</td>\n",
       "    </tr>\n",
       "    <tr>\n",
       "      <th>1</th>\n",
       "      <td>100</td>\n",
       "      <td>3</td>\n",
       "      <td>3</td>\n",
       "      <td>3</td>\n",
       "      <td>2.537326</td>\n",
       "      <td>2.537326</td>\n",
       "      <td>2.537326</td>\n",
       "    </tr>\n",
       "    <tr>\n",
       "      <th>2</th>\n",
       "      <td>150</td>\n",
       "      <td>5</td>\n",
       "      <td>5</td>\n",
       "      <td>5</td>\n",
       "      <td>2.274060</td>\n",
       "      <td>2.274060</td>\n",
       "      <td>2.274060</td>\n",
       "    </tr>\n",
       "    <tr>\n",
       "      <th>3</th>\n",
       "      <td>200</td>\n",
       "      <td>7</td>\n",
       "      <td>7</td>\n",
       "      <td>7</td>\n",
       "      <td>2.029804</td>\n",
       "      <td>2.029804</td>\n",
       "      <td>2.029804</td>\n",
       "    </tr>\n",
       "    <tr>\n",
       "      <th>4</th>\n",
       "      <td>250</td>\n",
       "      <td>9</td>\n",
       "      <td>9</td>\n",
       "      <td>9</td>\n",
       "      <td>1.940138</td>\n",
       "      <td>1.940138</td>\n",
       "      <td>1.940138</td>\n",
       "    </tr>\n",
       "  </tbody>\n",
       "</table>\n",
       "</div>"
      ],
      "text/plain": [
       "   train/global_step  ./results_packing - _step  \\\n",
       "0                 50                          1   \n",
       "1                100                          3   \n",
       "2                150                          5   \n",
       "3                200                          7   \n",
       "4                250                          9   \n",
       "\n",
       "   ./results_packing - _step__MIN  ./results_packing - _step__MAX  \\\n",
       "0                               1                               1   \n",
       "1                               3                               3   \n",
       "2                               5                               5   \n",
       "3                               7                               7   \n",
       "4                               9                               9   \n",
       "\n",
       "   ./results_packing - eval/loss  ./results_packing - eval/loss__MIN  \\\n",
       "0                       2.716813                            2.716813   \n",
       "1                       2.537326                            2.537326   \n",
       "2                       2.274060                            2.274060   \n",
       "3                       2.029804                            2.029804   \n",
       "4                       1.940138                            1.940138   \n",
       "\n",
       "   ./results_packing - eval/loss__MAX  \n",
       "0                            2.716813  \n",
       "1                            2.537326  \n",
       "2                            2.274060  \n",
       "3                            2.029804  \n",
       "4                            1.940138  "
      ]
     },
     "execution_count": 19,
     "metadata": {},
     "output_type": "execute_result"
    }
   ],
   "source": [
    "df.head()"
   ]
  },
  {
   "cell_type": "code",
   "execution_count": 25,
   "metadata": {},
   "outputs": [
    {
     "data": {
      "text/plain": [
       "1.7584673166275024"
      ]
     },
     "execution_count": 25,
     "metadata": {},
     "output_type": "execute_result"
    }
   ],
   "source": [
    "lowest_eval = min(df['./results_packing - eval/loss'])\n",
    "lowest_eval"
   ]
  },
  {
   "cell_type": "code",
   "execution_count": 26,
   "metadata": {},
   "outputs": [
    {
     "data": {
      "text/plain": [
       "Int64Index([31], dtype='int64')"
      ]
     },
     "execution_count": 26,
     "metadata": {},
     "output_type": "execute_result"
    }
   ],
   "source": [
    "lowest_eval_index = df[df['./results_packing - eval/loss'] == lowest_eval].index\n",
    "lowest_eval_index"
   ]
  },
  {
   "cell_type": "code",
   "execution_count": 27,
   "metadata": {},
   "outputs": [
    {
     "data": {
      "text/plain": [
       "Int64Index([1550], dtype='int64')"
      ]
     },
     "execution_count": 27,
     "metadata": {},
     "output_type": "execute_result"
    }
   ],
   "source": [
    "checkpoint_value = lowest_eval_index * 50\n",
    "checkpoint_value\n",
    "# I expected maybe 2000 based on graph"
   ]
  },
  {
   "cell_type": "code",
   "execution_count": 28,
   "metadata": {},
   "outputs": [
    {
     "data": {
      "image/png": "[encoded data removed]",
      "text/plain": [
       "<Figure size 432x288 with 1 Axes>"
      ]
     },
     "metadata": {
      "needs_background": "light"
     },
     "output_type": "display_data"
    }
   ],
   "source": [
    "import matplotlib.pyplot as plt\n",
    "\n",
    "plt.plot(df['./results_packing - eval/loss'][10:150])\n",
    "plt.show()"
   ]
  },
  {
   "cell_type": "markdown",
   "metadata": {},
   "source": [
    "## Based on the plot, it seems 40 really is good, so the ideal checkpoint is 2000"
   ]
  }
 ],
 "metadata": {
  "kernelspec": {
   "display_name": "Python 3 (ipykernel)",
   "language": "python",
   "name": "python3"
  },
  "language_info": {
   "codemirror_mode": {
    "name": "ipython",
    "version": 3
   },
   "file_extension": ".py",
   "mimetype": "text/x-python",
   "name": "python",
   "nbconvert_exporter": "python",
   "pygments_lexer": "ipython3",
   "version": "3.8.10"
  }
 },
 "nbformat": 4,
 "nbformat_minor": 4
}
